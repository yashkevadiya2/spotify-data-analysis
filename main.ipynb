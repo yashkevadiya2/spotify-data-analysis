{
 "cells": [
  {
   "cell_type": "code",
   "execution_count": null,
   "metadata": {},
   "outputs": [],
   "source": [
    "import pandas as pd\n",
    "import numpy as np\n",
    "import matplotlib.pyplot as plt\n",
    "import seaborn as sns\n",
    "from sklearn.preprocessing import LabelEncoder, OneHotEncoder\n",
    "from sklearn.linear_model import LinearRegression\n",
    "from sklearn.model_selection import train_test_split\n",
    "from sklearn.metrics import confusion_matrix, r2_score, mean_absolute_error, mean_squared_error\n",
    "from scipy import stats"
   ]
  },
  {
   "cell_type": "code",
   "execution_count": null,
   "metadata": {},
   "outputs": [],
   "source": [
    "data = pd.read_csv(\"SpotifyFeatures.csv\")\n",
    "df = pd.DataFrame(data)\n",
    "df.info()\n",
    "df.head(15)"
   ]
  },
  {
   "cell_type": "code",
   "execution_count": null,
   "metadata": {},
   "outputs": [],
   "source": [
    "df.isnull().sum()\n",
    "df['artist_name'].unique()\n",
    "df['key'].unique()"
   ]
  },
  {
   "cell_type": "code",
   "execution_count": null,
   "metadata": {},
   "outputs": [],
   "source": [
    "sort_popularity = df.sort_values('popularity',ascending=True, inplace= True)"
   ]
  },
  {
   "cell_type": "code",
   "execution_count": null,
   "metadata": {},
   "outputs": [],
   "source": [
    "most_popular = df.query('popularity>90').sort_values('popularity',ascending=False)\n",
    "most_popular"
   ]
  },
  {
   "cell_type": "code",
   "execution_count": null,
   "metadata": {},
   "outputs": [],
   "source": [
    "df['duration'] = df['duration_ms'].apply(lambda x:(x/1000))\n",
    "df['duration'].head(8)\n",
    "dir(df['genre'])\n"
   ]
  },
  {
   "cell_type": "code",
   "execution_count": null,
   "metadata": {},
   "outputs": [],
   "source": [
    "le = LabelEncoder()\n",
    "he = OneHotEncoder(sparse_output=False)\n",
    "df['mode'] = le.fit_transform(df['mode'])\n",
    "df['genre'] = le.fit_transform(df[['genre']])\n",
    "df['mode'].head(10)\n",
    "df['genre'].head(10)\n"
   ]
  },
  {
   "cell_type": "code",
   "execution_count": null,
   "metadata": {},
   "outputs": [],
   "source": [
    "numerical_feature = df.select_dtypes(include=['int', 'float64'])\n",
    "data_corr = numerical_feature.corr()"
   ]
  },
  {
   "cell_type": "code",
   "execution_count": null,
   "metadata": {},
   "outputs": [],
   "source": [
    "plt.figure(figsize=(14,6))\n",
    "heatmap = sns.heatmap(data_corr,vmin=1, vmax=1, annot=True, cmap='inferno')\n",
    "heatmap.set_title(\"this is the co-relation chart.\")\n",
    "heatmap.set_xticklabels(heatmap.get_xticklabels, rotation=90,ha='right')\n",
    "\n"
   ]
  },
  {
   "cell_type": "code",
   "execution_count": null,
   "metadata": {},
   "outputs": [],
   "source": [
    "#find out outlier in the data sets.\n",
    "z_score = stats.zscore(df['loudness'])\n",
    "abs_z_score = np.abs(z_score)\n",
    "print(abs_z_score.head(10))\n",
    "print(abs_z_score.sort_values())\n",
    "outlier = df[abs_z_score>7.0]\n",
    "print(outlier)"
   ]
  },
  {
   "cell_type": "code",
   "execution_count": null,
   "metadata": {},
   "outputs": [],
   "source": [
    "#spliting the data for training and testing.\n",
    "x = df[['loudness']]\n",
    "y = df['energy']\n",
    "X_train, X_test, y_train, y_test = train_test_split(x,y, test_size=0.2,random_state=42)"
   ]
  },
  {
   "cell_type": "code",
   "execution_count": null,
   "metadata": {},
   "outputs": [],
   "source": [
    "model = LinearRegression()\n",
    "model.fit(X_train,y_train)\n",
    "y_predicted = model.predict(X_test)"
   ]
  },
  {
   "cell_type": "code",
   "execution_count": null,
   "metadata": {},
   "outputs": [],
   "source": [
    "plt.scatter(X_train, y_train, color=\"blue\", label='Data points')\n",
    "plt.plot(X_test, y_predicted, color=\"red\", label='Regression Line')\n",
    "plt.xlabel('loudness')\n",
    "plt.ylabel('energy')\n",
    "plt.title('Linear Regression of Loudness vs Energy')\n",
    "plt.legend()\n",
    "plt.show()"
   ]
  },
  {
   "cell_type": "code",
   "execution_count": null,
   "metadata": {},
   "outputs": [],
   "source": [
    "#evaluate model in basis of the some of the basic perameters.\n",
    "print(f\"r2_score :{r2_score(y_test, y_predicted)}\")\n",
    "print(f\"mse :{mean_squared_error(y_test,y_predicted)}\")\n",
    "print(f\"mae :{mean_absolute_error(y_test, y_predicted)}\")"
   ]
  },
  {
   "cell_type": "code",
   "execution_count": null,
   "metadata": {},
   "outputs": [],
   "source": [
    "#using data visulization find out some valuable insights from data\n"
   ]
  }
 ],
 "metadata": {
  "kernelspec": {
   "display_name": "spotify",
   "language": "python",
   "name": "python3"
  },
  "language_info": {
   "codemirror_mode": {
    "name": "ipython",
    "version": 3
   },
   "file_extension": ".py",
   "mimetype": "text/x-python",
   "name": "python",
   "nbconvert_exporter": "python",
   "pygments_lexer": "ipython3",
   "version": "3.12.4"
  }
 },
 "nbformat": 4,
 "nbformat_minor": 2
}
